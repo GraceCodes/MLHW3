{
 "cells": [
  {
   "cell_type": "code",
   "execution_count": 42,
   "id": "latin-sheriff",
   "metadata": {},
   "outputs": [],
   "source": [
    "#omg send help\n",
    "#ok here we go\n",
    "\n",
    "import glob\n",
    "import pandas as pd"
   ]
  },
  {
   "cell_type": "code",
   "execution_count": 22,
   "id": "joint-taste",
   "metadata": {},
   "outputs": [
    {
     "name": "stdout",
     "output_type": "stream",
     "text": [
      "testing\n",
      "data/Breast_Invasive_Carcinoma/MANIFEST.txt\n"
     ]
    }
   ],
   "source": [
    "print(\"Familiarizing ourselves with the glob \")\n",
    "for name in glob.glob('data/Breast_Invasive_Carcinoma/MANIFEST.txt'):\n",
    "    print(name)"
   ]
  },
  {
   "cell_type": "code",
   "execution_count": 41,
   "id": "least-place",
   "metadata": {},
   "outputs": [
    {
     "name": "stdout",
     "output_type": "stream",
     "text": [
      "data/Breast_Invasive_Carcinoma/004ca2d1-af92-45fd-aef9-f7a84131f467/dece924e-2e46-497c-8405-52b40e072450.mirbase21.mirnas.quantification.txt\n"
     ]
    }
   ],
   "source": [
    "#BREAST INVASIVE CARCINOMA\n",
    "BICfiles = glob.glob('data/Breast_Invasive_Carcinoma/*/*.quantification.txt')\n",
    "#print(BICfiles[1])"
   ]
  },
  {
   "cell_type": "code",
   "execution_count": 36,
   "id": "impressed-nicaragua",
   "metadata": {},
   "outputs": [
    {
     "name": "stdout",
     "output_type": "stream",
     "text": [
      "data/Kidney_Renal_Clear_Cell_Carcinoma/0084b102-9991-4954-b4b3-13a6c0700544/d5d015f4-6e3d-4791-aed4-e8d8fdec6353.mirbase21.mirnas.quantification.txt\n"
     ]
    }
   ],
   "source": [
    "#KIDNEY RENAL CLEAR CELL CARCINOMA\n",
    "KRCCfiles = glob.glob('data/Kidney_Renal_Clear_Cell_Carcinoma/*/*.quantification.txt')\n",
    "#print(KRCCfiles[1])"
   ]
  },
  {
   "cell_type": "code",
   "execution_count": 37,
   "id": "constant-exhibit",
   "metadata": {},
   "outputs": [
    {
     "name": "stdout",
     "output_type": "stream",
     "text": [
      "data/Lung_Adenocarcinoma/016fda24-9e89-4c5b-a79d-a5bdc9ed1fb6/d1c7aaf0-d4d3-41d9-9c94-21f1ea0afe14.mirbase21.mirnas.quantification.txt\n"
     ]
    }
   ],
   "source": [
    "#LUNG ADENOCARCINOMA\n",
    "LAfiles = glob.glob('data/Lung_Adenocarcinoma/*/*.quantification.txt')\n",
    "#print(LAfiles[1])"
   ]
  },
  {
   "cell_type": "code",
   "execution_count": 38,
   "id": "afraid-beatles",
   "metadata": {},
   "outputs": [
    {
     "name": "stdout",
     "output_type": "stream",
     "text": [
      "data/Lung_Squamous_Cell_Carcinoma/011355fa-1b81-4a10-a17d-42cb781caa3e/4b776bfe-1253-42ff-985e-199ccc38c6c3.mirbase21.mirnas.quantification.txt\n"
     ]
    }
   ],
   "source": [
    "#LUNG SQUAMOUS CELL CARCINOMA\n",
    "LSCCfiles = glob.glob('data/Lung_Squamous_Cell_Carcinoma/*/*.quantification.txt')\n",
    "#print(LSCCfiles[1])"
   ]
  },
  {
   "cell_type": "code",
   "execution_count": 39,
   "id": "quick-constitution",
   "metadata": {},
   "outputs": [
    {
     "name": "stdout",
     "output_type": "stream",
     "text": [
      "data/Pancreatic_Adenocarcinoma/022a362b-d03a-4d42-93bc-4c4683520bbf/6e65f195-1ebc-4c86-bc1c-9baf2344ec2b.mirbase21.mirnas.quantification.txt\n"
     ]
    }
   ],
   "source": [
    "#PANCREATIC ADENOCARCINOMA\n",
    "PAfiles = glob.glob('data/Pancreatic_Adenocarcinoma/*/*.quantification.txt')\n",
    "#print(PAfiles[1])"
   ]
  },
  {
   "cell_type": "code",
   "execution_count": 40,
   "id": "particular-court",
   "metadata": {},
   "outputs": [
    {
     "name": "stdout",
     "output_type": "stream",
     "text": [
      "data/Uveal_Melanoma/06dccb5a-c105-4335-b540-15f43cb568e2/7daa951c-7406-48cb-a6fb-b0fcebfc7f83.mirbase21.mirnas.quantification.txt\n"
     ]
    }
   ],
   "source": [
    "#UVEAL MELANOMA\n",
    "UMfiles = glob.glob('data/Uveal_Melanoma/*/*.quantification.txt')\n",
    "#print(UMfiles[1])"
   ]
  },
  {
   "cell_type": "code",
   "execution_count": 80,
   "id": "elementary-taste",
   "metadata": {},
   "outputs": [],
   "source": [
    "#ok so here's what I think I need to do:\n",
    "#I need to read each of the file paths that I got from glob into dataframes then use those dataframes to \n",
    "#append each observation to a master dataframe. Also check to make sure they all have same # of rows\n",
    "df = pd.read_csv(BICfiles[1], delimiter = \"\\t\")\n",
    "#df.head()\n",
    "df.tail()\n",
    "df['ones']=1"
   ]
  },
  {
   "cell_type": "code",
   "execution_count": 81,
   "id": "ambient-roller",
   "metadata": {},
   "outputs": [
    {
     "data": {
      "text/html": [
       "<div>\n",
       "<style scoped>\n",
       "    .dataframe tbody tr th:only-of-type {\n",
       "        vertical-align: middle;\n",
       "    }\n",
       "\n",
       "    .dataframe tbody tr th {\n",
       "        vertical-align: top;\n",
       "    }\n",
       "\n",
       "    .dataframe thead th {\n",
       "        text-align: right;\n",
       "    }\n",
       "</style>\n",
       "<table border=\"1\" class=\"dataframe\">\n",
       "  <thead>\n",
       "    <tr style=\"text-align: right;\">\n",
       "      <th></th>\n",
       "      <th>miRNA_ID</th>\n",
       "      <th>read_count</th>\n",
       "      <th>reads_per_million_miRNA_mapped</th>\n",
       "      <th>cross-mapped</th>\n",
       "      <th>ones</th>\n",
       "    </tr>\n",
       "  </thead>\n",
       "  <tbody>\n",
       "    <tr>\n",
       "      <th>0</th>\n",
       "      <td>hsa-let-7a-1</td>\n",
       "      <td>91435</td>\n",
       "      <td>9675.101346</td>\n",
       "      <td>N</td>\n",
       "      <td>1</td>\n",
       "    </tr>\n",
       "    <tr>\n",
       "      <th>1</th>\n",
       "      <td>hsa-let-7a-2</td>\n",
       "      <td>90923</td>\n",
       "      <td>9620.924588</td>\n",
       "      <td>N</td>\n",
       "      <td>1</td>\n",
       "    </tr>\n",
       "    <tr>\n",
       "      <th>2</th>\n",
       "      <td>hsa-let-7a-3</td>\n",
       "      <td>91773</td>\n",
       "      <td>9710.866472</td>\n",
       "      <td>N</td>\n",
       "      <td>1</td>\n",
       "    </tr>\n",
       "    <tr>\n",
       "      <th>3</th>\n",
       "      <td>hsa-let-7b</td>\n",
       "      <td>109568</td>\n",
       "      <td>11593.826262</td>\n",
       "      <td>N</td>\n",
       "      <td>1</td>\n",
       "    </tr>\n",
       "    <tr>\n",
       "      <th>4</th>\n",
       "      <td>hsa-let-7c</td>\n",
       "      <td>17180</td>\n",
       "      <td>1817.884192</td>\n",
       "      <td>N</td>\n",
       "      <td>1</td>\n",
       "    </tr>\n",
       "  </tbody>\n",
       "</table>\n",
       "</div>"
      ],
      "text/plain": [
       "       miRNA_ID  read_count  reads_per_million_miRNA_mapped cross-mapped  ones\n",
       "0  hsa-let-7a-1       91435                     9675.101346            N     1\n",
       "1  hsa-let-7a-2       90923                     9620.924588            N     1\n",
       "2  hsa-let-7a-3       91773                     9710.866472            N     1\n",
       "3    hsa-let-7b      109568                    11593.826262            N     1\n",
       "4    hsa-let-7c       17180                     1817.884192            N     1"
      ]
     },
     "execution_count": 81,
     "metadata": {},
     "output_type": "execute_result"
    }
   ],
   "source": [
    "#df['miRNA_ID'].head()\n",
    "df.head()"
   ]
  },
  {
   "cell_type": "code",
   "execution_count": 88,
   "id": "precious-prairie",
   "metadata": {},
   "outputs": [
    {
     "data": {
      "text/html": [
       "<div>\n",
       "<style scoped>\n",
       "    .dataframe tbody tr th:only-of-type {\n",
       "        vertical-align: middle;\n",
       "    }\n",
       "\n",
       "    .dataframe tbody tr th {\n",
       "        vertical-align: top;\n",
       "    }\n",
       "\n",
       "    .dataframe thead th {\n",
       "        text-align: right;\n",
       "    }\n",
       "</style>\n",
       "<table border=\"1\" class=\"dataframe\">\n",
       "  <thead>\n",
       "    <tr style=\"text-align: right;\">\n",
       "      <th>miRNA_ID</th>\n",
       "      <th>hsa-let-7a-1</th>\n",
       "      <th>hsa-let-7a-2</th>\n",
       "      <th>hsa-let-7a-3</th>\n",
       "      <th>hsa-let-7b</th>\n",
       "      <th>hsa-let-7c</th>\n",
       "      <th>hsa-let-7d</th>\n",
       "      <th>hsa-let-7e</th>\n",
       "      <th>hsa-let-7f-1</th>\n",
       "      <th>hsa-let-7f-2</th>\n",
       "      <th>hsa-let-7g</th>\n",
       "      <th>...</th>\n",
       "      <th>hsa-mir-941-5</th>\n",
       "      <th>hsa-mir-942</th>\n",
       "      <th>hsa-mir-943</th>\n",
       "      <th>hsa-mir-944</th>\n",
       "      <th>hsa-mir-95</th>\n",
       "      <th>hsa-mir-9500</th>\n",
       "      <th>hsa-mir-96</th>\n",
       "      <th>hsa-mir-98</th>\n",
       "      <th>hsa-mir-99a</th>\n",
       "      <th>hsa-mir-99b</th>\n",
       "    </tr>\n",
       "    <tr>\n",
       "      <th>ones</th>\n",
       "      <th></th>\n",
       "      <th></th>\n",
       "      <th></th>\n",
       "      <th></th>\n",
       "      <th></th>\n",
       "      <th></th>\n",
       "      <th></th>\n",
       "      <th></th>\n",
       "      <th></th>\n",
       "      <th></th>\n",
       "      <th></th>\n",
       "      <th></th>\n",
       "      <th></th>\n",
       "      <th></th>\n",
       "      <th></th>\n",
       "      <th></th>\n",
       "      <th></th>\n",
       "      <th></th>\n",
       "      <th></th>\n",
       "      <th></th>\n",
       "      <th></th>\n",
       "    </tr>\n",
       "  </thead>\n",
       "  <tbody>\n",
       "    <tr>\n",
       "      <th>1</th>\n",
       "      <td>9675.101346</td>\n",
       "      <td>9620.924588</td>\n",
       "      <td>9710.866472</td>\n",
       "      <td>11593.826262</td>\n",
       "      <td>1817.884192</td>\n",
       "      <td>334.477994</td>\n",
       "      <td>1189.031704</td>\n",
       "      <td>4199.545275</td>\n",
       "      <td>4264.938315</td>\n",
       "      <td>511.504784</td>\n",
       "      <td>...</td>\n",
       "      <td>0.0</td>\n",
       "      <td>5.925583</td>\n",
       "      <td>0.0</td>\n",
       "      <td>1.269768</td>\n",
       "      <td>1.05814</td>\n",
       "      <td>0.0</td>\n",
       "      <td>26.136053</td>\n",
       "      <td>44.547686</td>\n",
       "      <td>668.744359</td>\n",
       "      <td>13635.189582</td>\n",
       "    </tr>\n",
       "  </tbody>\n",
       "</table>\n",
       "<p>1 rows × 1881 columns</p>\n",
       "</div>"
      ],
      "text/plain": [
       "miRNA_ID  hsa-let-7a-1  hsa-let-7a-2  hsa-let-7a-3    hsa-let-7b   hsa-let-7c  \\\n",
       "ones                                                                            \n",
       "1          9675.101346   9620.924588   9710.866472  11593.826262  1817.884192   \n",
       "\n",
       "miRNA_ID  hsa-let-7d   hsa-let-7e  hsa-let-7f-1  hsa-let-7f-2  hsa-let-7g  \\\n",
       "ones                                                                        \n",
       "1         334.477994  1189.031704   4199.545275   4264.938315  511.504784   \n",
       "\n",
       "miRNA_ID  ...  hsa-mir-941-5  hsa-mir-942  hsa-mir-943  hsa-mir-944  \\\n",
       "ones      ...                                                         \n",
       "1         ...            0.0     5.925583          0.0     1.269768   \n",
       "\n",
       "miRNA_ID  hsa-mir-95  hsa-mir-9500  hsa-mir-96  hsa-mir-98  hsa-mir-99a  \\\n",
       "ones                                                                      \n",
       "1            1.05814           0.0   26.136053   44.547686   668.744359   \n",
       "\n",
       "miRNA_ID   hsa-mir-99b  \n",
       "ones                    \n",
       "1         13635.189582  \n",
       "\n",
       "[1 rows x 1881 columns]"
      ]
     },
     "execution_count": 88,
     "metadata": {},
     "output_type": "execute_result"
    }
   ],
   "source": [
    "newDf = df.pivot(columns='miRNA_ID', values='reads_per_million_miRNA_mapped', index='ones')\n",
    "newDf"
   ]
  },
  {
   "cell_type": "code",
   "execution_count": null,
   "id": "banner-purse",
   "metadata": {},
   "outputs": [],
   "source": [
    "#this isn't working, it was my first attempt to apply what we were able to do for the one observation above\n",
    "#on a mass scale\n",
    "frames = []\n",
    "for i in range(1,3):\n",
    "    df = pd.read_csv(BICfiles[i], delimiter = \"\\t\")\n",
    "    df['ones']=1\n",
    "    newDf = df.pivot(columns='miRNA_ID', values='reads_per_million_miRNA_mapped', index='ones')\n",
    "    frames[i] = newDf\n",
    "result = pd.concat(frames)"
   ]
  },
  {
   "cell_type": "code",
   "execution_count": null,
   "id": "solid-mills",
   "metadata": {},
   "outputs": [],
   "source": []
  }
 ],
 "metadata": {
  "kernelspec": {
   "display_name": "Python 3",
   "language": "python",
   "name": "python3"
  },
  "language_info": {
   "codemirror_mode": {
    "name": "ipython",
    "version": 3
   },
   "file_extension": ".py",
   "mimetype": "text/x-python",
   "name": "python",
   "nbconvert_exporter": "python",
   "pygments_lexer": "ipython3",
   "version": "3.7.9"
  }
 },
 "nbformat": 4,
 "nbformat_minor": 5
}
